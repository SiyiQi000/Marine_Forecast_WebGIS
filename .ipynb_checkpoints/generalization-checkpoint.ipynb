{
 "metadata": {
  "name": ""
 },
 "nbformat": 3,
 "nbformat_minor": 0,
 "worksheets": [
  {
   "cells": [
    {
     "cell_type": "code",
     "collapsed": false,
     "input": [
      "#!/usr/bin/env python\n",
      "# -*- coding: utf-8 -*-\n",
      "import math\n",
      "import numpy as np\n",
      "from scipy.spatial import ConvexHull, convex_hull_plot_2d\n",
      "from scipy.spatial import Delaunay, delaunay_plot_2d\n",
      "from scipy.spatial import Voronoi, voronoi_plot_2d\n",
      "from shapely import geometry\n",
      "import matplotlib.pyplot as plt\n",
      "\n",
      "class Point():\n",
      "    def __init__(self,x,y):\n",
      "        self.x = x\n",
      "        self.y = y\n",
      "\n",
      "def GetAreaOfTriangle(p1,p2,p3):\n",
      "    '''\u8ba1\u7b97\u4e09\u89d2\u5f62\u9762\u79ef'''\n",
      "    area = 0\n",
      "    p1p2 = GetLineLength(p1,p2)\n",
      "    p2p3 = GetLineLength(p2,p3)\n",
      "    p3p1 = GetLineLength(p3,p1)\n",
      "    s = (p1p2 + p2p3 + p3p1)/2\n",
      "    area = s*(s-p1p2)*(s-p2p3)*(s-p3p1)\n",
      "    area = math.sqrt(area)\n",
      "    return area\n",
      "\n",
      "\n",
      "def GetLineLength(p1,p2):\n",
      "    '''\u8ba1\u7b97\u8fb9\u957f'''\n",
      "    length = math.pow((p1.x-p2.x),2) + math.pow((p1.y-p2.y),2)\n",
      "    length = math.sqrt(length)\n",
      "    return length\n",
      "\n",
      "def getVirPoints(hull):\n",
      "    polygon = geometry.Polygon([hull.points[id] for id in hull.vertices])\n",
      "    dis = polygon.length*1./len(polygon.exterior.coords)\n",
      "    print dis\n",
      "    paraline = polygon.exterior.parallel_offset(distance=dis, side='right', join_style=2, mitre_limit=9999999.)\n",
      "    #print paraline.coords\n",
      "    #return np.append(np.array(paraline.coords), np.array(paraline.coords(0)), axis = 0)\n",
      "    return np.array(paraline.coords)\n",
      "\n",
      "points = np.random.rand(5, 2)\n",
      "plt.plot(points[:,0], points[:,1], 'o')\n",
      "#print round(math.sqrt(.5)*len(points))\n",
      "hull = ConvexHull(points=points)\n",
      "for simplex in hull.simplices:\n",
      "    plt.plot(points[simplex,0], points[simplex,1], 'k-')\n",
      "# plt.show()\n",
      "tri = Delaunay(points=points)\n",
      "#plt.triplot(points[:,0], points[:,1], tri.simplices.copy(), 'r-')\n",
      "# plt.triplot(points[:,0], points[:,1], tri.simplices.copy())\n",
      "# plt.plot(points[:,0], points[:,1], 'o')\n",
      "# plt.show()\n",
      "\n",
      "#vor = Voronoi(points)\n",
      "# voronoi_plot_2d(vor)\n",
      "# plt.show()\n",
      "\n",
      "#print hull.vertices\n",
      "#temp = np.array([hull.points[id] for id in hull.vertices])\n",
      "#plt.plot(temp[:,0], temp[:,1], 'r-')\n",
      "virpoints = getVirPoints(hull)\n",
      "plt.plot(virpoints[:,0], virpoints[:,1], 'o')\n",
      "#plt.plot(virpoints[:,0], virpoints[:,1], 'b--')\n",
      "plt.show()\n",
      "\n",
      "points = np.append(points, virpoints, axis=0)\n",
      "tri = Delaunay(points=points)\n",
      "#plt.triplot(points[:,0], points[:,1], tri.simplices.copy(), 'g--')\n",
      "\n",
      "vor = Voronoi(points, furthest_site=False)\n",
      "voronoi_plot_2d(vor)\n",
      "plt.show()\n"
     ],
     "language": "python",
     "metadata": {},
     "outputs": [
      {
       "output_type": "stream",
       "stream": "stdout",
       "text": [
        "0.601590941521\n"
       ]
      }
     ],
     "prompt_number": 86
    },
    {
     "cell_type": "code",
     "collapsed": false,
     "input": [],
     "language": "python",
     "metadata": {},
     "outputs": []
    }
   ],
   "metadata": {}
  }
 ]
}