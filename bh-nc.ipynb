{
 "metadata": {
  "name": ""
 },
 "nbformat": 3,
 "nbformat_minor": 0,
 "worksheets": [
  {
   "cells": [
    {
     "cell_type": "code",
     "collapsed": false,
     "input": [
      "# \u7ed8\u5236\u83b7\u53d6\u503c\u7684\u67f1\u72b6\u56fe\n",
      "import os\n",
      "import math\n",
      "import numpy as np\n",
      "import matplotlib.pyplot as plt\n",
      "import matplotlib.mlab as mlab\n",
      "from pyncstore import *\n",
      "\n",
      "d = datetime.date.today()\n",
      "os.environ['NC_PATH'] = '/Users/sw/github/Marine_Forecast_WebGIS/BeihaiModel_out'\n",
      "map_projection = WebMercatorProjection\n",
      "resource = 'POM'\n",
      "#region = 'NWP'\n",
      "date = datetime.date(2013,9,12)\n",
      "#store = globals()[resource+'Store'](date, region)\n",
      "store = globals()[resource+'Store'](date)\n",
      "variable = 'el'\n",
      "values = store.get_value(variable)\n",
      "vmax = np.nanmax(values)\n",
      "vmin = np.nanmin(values)\n",
      "mu = np.nanmean(values)\n",
      "sigma1 = vmax - mu\n",
      "sigma2 = mu - vmin\n",
      "sigma = sigma1 if sigma1 > sigma2 else sigma2\n",
      "print vmax, vmin, mu, sigma\n",
      "\n",
      "# the histogram of the data\n",
      "x = values.flat\n",
      "#x = x[np.isfinite(x)]\n",
      "x = x[np.logical_not(np.isnan(x))]\n",
      "n, bins, patches = plt.hist(x, 50, normed=1, facecolor='green', alpha=0.75)\n",
      "\n",
      "# add a 'best fit' line\n",
      "y = mlab.normpdf( bins, mu, sigma)\n",
      "l = plt.plot(bins, y, 'r--', linewidth=1)\n",
      "\n",
      "# plt.axis([40, 160, 0, 0.03])\n",
      "# plt.grid(True)\n",
      "plt.show()\n",
      "\n"
     ],
     "language": "python",
     "metadata": {},
     "outputs": [
      {
       "output_type": "stream",
       "stream": "stdout",
       "text": [
        "1.79529428482 -1.59709727764 0.188515712738 1.78561299038\n",
        "<numpy.flatiter object at 0x7fe762696000>\n"
       ]
      }
     ],
     "prompt_number": 5
    },
    {
     "cell_type": "code",
     "collapsed": false,
     "input": [
      "# \u9884\u751f\u6210json\u74e6\u7247\n",
      "import os\n",
      "import math\n",
      "import numpy as np\n",
      "from pyncstore import *\n",
      "\n",
      "d = datetime.date.today()\n",
      "os.environ['NC_PATH'] = '/Users/sw/github/Marine_Forecast_WebGIS/BeihaiModel_out'\n",
      "map_projection = WebMercatorProjection\n",
      "resource = 'POM'\n",
      "#region = 'NWP'\n",
      "date = datetime.date(2013,9,12)\n",
      "#store = globals()[resource+'Store'](date, region)\n",
      "store = globals()[resource+'Store'](date)\n",
      "zs = [4,5,6]\n",
      "for z in zs:\n",
      "    store.export_to_jsontiles(z, None, map_projection, uv2va)\n"
     ],
     "language": "python",
     "metadata": {},
     "outputs": [],
     "prompt_number": "*"
    },
    {
     "cell_type": "code",
     "collapsed": false,
     "input": [
      "# \u6295\u5f71\u53d8\u6362\uff0c\u6295\u5f71\u540eimage size\n",
      "#105., 15., 140., 47.\n",
      "from pyncstore import *\n",
      "a = LatLon(15., 105.)\n",
      "b = LatLon(47., 140.)\n",
      "aa = WebMercatorProjection.project(a)\n",
      "bb = WebMercatorProjection.project(b)\n",
      "print aa,bb\n",
      "w = 350\n",
      "h = (b.lon-a.lon)/(bb.x-aa.x)*(bb.y - aa.y)/(b.lat-a.lat)*w\n",
      "print w, int(h)\n",
      "\n"
     ],
     "language": "python",
     "metadata": {},
     "outputs": [
      {
       "output_type": "stream",
       "stream": "stdout",
       "text": [
        "1.832596, 0.264842 2.443461, 0.931632\n",
        "350 417\n"
       ]
      }
     ],
     "prompt_number": 4
    },
    {
     "cell_type": "code",
     "collapsed": false,
     "input": [
      "# SWAN NWP dimensions and variables\n",
      "from pyncstore import *\n",
      "os.environ['NC_PATH'] = '/Users/sw/github/Marine_Forecast_WebGIS/BeihaiModel_out'\n",
      "resource = 'SWAN'\n",
      "region = 'NWP'\n",
      "d = datetime.date.today()\n",
      "date = datetime.date(2013,9,12)\n",
      "store = globals()[resource+'Store'](date, region)\n",
      "print store.nc.dimensions\n",
      "for var in store.nc.variables:\n",
      "    print store.nc.variables[var]\n"
     ],
     "language": "python",
     "metadata": {},
     "outputs": [
      {
       "output_type": "stream",
       "stream": "stdout",
       "text": [
        "OrderedDict([(u'longitude', <netCDF4.Dimension object at 0x102e13a50>), (u'latitude', <netCDF4.Dimension object at 0x102e13aa0>), (u'time', <netCDF4.Dimension object at 0x102e13b40>)])\n",
        "<type 'netCDF4.Variable'>\n",
        "float32 longitude(longitude)\n",
        "    units: degree\n",
        "    long_name: longitude. form east to west (degree)\n",
        "unlimited dimensions: \n",
        "current shape = (351,)\n",
        "\n",
        "<type 'netCDF4.Variable'>\n",
        "float32 latitude(latitude)\n",
        "    units: degree\n",
        "    long_name: latitude. from north to south (degree)\n",
        "unlimited dimensions: \n",
        "current shape = (321,)\n",
        "\n",
        "<type 'netCDF4.Variable'>\n",
        "float32 hs(time, latitude, longitude)\n",
        "    units: m\n",
        "    _FillValue: -999.9\n",
        "    long_name: Significant wave height (m)\n",
        "    valid_range: [  0.  99.]\n",
        "unlimited dimensions: \n",
        "current shape = (120, 321, 351)\n",
        "\n",
        "<type 'netCDF4.Variable'>\n",
        "float32 tm(time, latitude, longitude)\n",
        "    units: s\n",
        "    _FillValue: -999.9\n",
        "    long_name: Mean wave period (s)\n",
        "    valid_range: [  0.  99.]\n",
        "unlimited dimensions: \n",
        "current shape = (120, 321, 351)\n",
        "\n",
        "<type 'netCDF4.Variable'>\n",
        "float32 di(time, latitude, longitude)\n",
        "    units: \n",
        "    _FillValue: -999.9\n",
        "    long_name: Direction\n",
        "    valid_range: [   0.  360.]\n",
        "unlimited dimensions: \n",
        "current shape = (120, 321, 351)\n",
        "\n"
       ]
      }
     ],
     "prompt_number": 3
    },
    {
     "cell_type": "code",
     "collapsed": false,
     "input": [
      "# \u6309 4 pixel\u6761\u4ef6\u5316\u5207\u5206\u56fe\u50cf\uff0c\u4ee5\u9002\u5e94\u5ba2\u6237\u7aef\u62c9\u4f38\u6295\u5f71\u53d8\u6362\n",
      "from PIL import Image,ImageDraw\n",
      "import os\n",
      "image = Image.open('static/test.png')\n",
      "width = 350\n",
      "height = 320\n",
      "subheight = 8\n",
      "size = (350, subheight)\n",
      "outputdir = 'static/test'\n",
      "if not os.path.isdir(outputdir):\n",
      "    os.mkdir(outputdir)\n",
      "nums = height/subheight\n",
      "for iPic in range(nums):\n",
      "    picfile = os.path.join(outputdir, str(nums-iPic-1)+'.png')\n",
      "    im = Image.new(\"RGB\", size)\n",
      "    for i in range(350):\n",
      "        for j in range(size[1]):\n",
      "            pixel = image.getpixel((i, iPic*subheight+j))\n",
      "            im.putpixel((i, j), pixel)\n",
      "    im.save(picfile, 'PNG')\n",
      "    \n",
      "\n"
     ],
     "language": "python",
     "metadata": {},
     "outputs": [],
     "prompt_number": 1
    },
    {
     "cell_type": "code",
     "collapsed": false,
     "input": [
      "# \u6839\u636e\u6807\u91cf\u503c\u751f\u6210png\n",
      "from pyncstore import *\n",
      "d = datetime.date.today()\n",
      "os.environ['NC_PATH'] = '/Users/sw/github/Marine_Forecast_WebGIS/BeihaiModel_out'\n",
      "map_projection = WebMercatorProjection\n",
      "resource = 'SWAN'\n",
      "region = 'NWP'\n",
      "variable = 'hs'\n",
      "date = datetime.date(2013,9,12)\n",
      "store = globals()[resource+'Store'](date, region)\n",
      "store.scalar_to_image(projection=map_projection)\n"
     ],
     "language": "python",
     "metadata": {},
     "outputs": [],
     "prompt_number": 1
    },
    {
     "cell_type": "markdown",
     "metadata": {},
     "source": []
    },
    {
     "cell_type": "code",
     "collapsed": false,
     "input": [
      "# \u4f7f\u7528\u6807\u51c6\u5dee\u5220\u9664\u504f\u79bb\u503c\u8f83\u5927\u7684\u70b9\n",
      "import os\n",
      "import math\n",
      "import netCDF4\n",
      "import numpy as np\n",
      "from pyncstore import *\n",
      "\n",
      "d = datetime.date.today()\n",
      "os.environ['NC_PATH'] = '/Users/sw/github/Marine_Forecast_WebGIS/BeihaiModel_out'\n",
      "map_projection = WebMercatorProjection\n",
      "resource = 'SWAN'\n",
      "region = 'NWP'\n",
      "date = datetime.date(2013,9,12)\n",
      "store = globals()[resource+'Store'](date, region)\n",
      "variable = 'hs'\n",
      "values = store.get_value(variable)\n",
      "vmax = np.nanmax(values)\n",
      "vmin = np.nanmin(values)\n",
      "mean = np.nanmean(values)\n",
      "std = np.nanstd(values)\n",
      "print vmax, vmin, mean, std, var\n",
      "\n",
      "i1 = 0\n",
      "i2 = 0\n",
      "times = 3\n",
      "vmax_fix = mean + times*std\n",
      "vmin_fix = mean - times*std\n",
      "for val in values.flat:\n",
      "    if not np.isnan(val):\n",
      "        i1 += 1\n",
      "    if val < vmax_fix:\n",
      "        i2 += 1\n",
      "print i1, i2, i2*1./i1\n",
      "\n",
      "vmax_fix = vmax if vmax < vmax_fix else vmax_fix\n",
      "vmin_fix = vmin if vmin > vmin_fix else vmin_fix\n",
      "print vmin_fix, vmax_fix\n"
     ],
     "language": "python",
     "metadata": {},
     "outputs": [
      {
       "output_type": "stream",
       "stream": "stdout",
       "text": [
        "26.5400009155 0.0 1.57382219824 0.900034484115 0.810062072596\n",
        "58220"
       ]
      },
      {
       "output_type": "stream",
       "stream": "stdout",
       "text": [
        " 57700 0.991068361388\n",
        "0.0 4.27392565059\n"
       ]
      }
     ],
     "prompt_number": 15
    },
    {
     "cell_type": "code",
     "collapsed": false,
     "input": [
      "# FVCOM dimensions and variables\n",
      "from pyncstore import *\n",
      "os.environ['NC_PATH'] = '/Users/sw/github/Marine_Forecast_WebGIS/BeihaiModel_out'\n",
      "resource = 'FVCOM'\n",
      "region = 'NWP'\n",
      "d = datetime.date.today()\n",
      "date = datetime.date(2013,9,12)\n",
      "store = globals()[resource+'Store'](date, region)\n",
      "print store.nc.dimensions\n",
      "for var in store.nc.variables:\n",
      "    print store.nc.variables[var]\n"
     ],
     "language": "python",
     "metadata": {},
     "outputs": []
    }
   ],
   "metadata": {}
  }
 ]
}